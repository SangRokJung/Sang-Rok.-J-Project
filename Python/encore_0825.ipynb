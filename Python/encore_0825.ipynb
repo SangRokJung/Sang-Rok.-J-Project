{
 "cells": [
  {
   "cell_type": "code",
   "execution_count": 1,
   "id": "649fc67f",
   "metadata": {},
   "outputs": [],
   "source": [
    "name   = \"홍길동\"\n",
    "age    = 30\n",
    "height = 171.5"
   ]
  },
  {
   "cell_type": "code",
   "execution_count": 4,
   "id": "8c150c65",
   "metadata": {},
   "outputs": [
    {
     "name": "stdout",
     "output_type": "stream",
     "text": [
      "성  : 홍\n",
      "이름: 길동\n",
      "홍길동의 나이: 30세, 키: 171.50cm\n"
     ]
    }
   ],
   "source": [
    "print('성  :', name[0])\n",
    "print('이름:', name[1:])\n",
    "print('%s의 나이: %d세, 키: %.2fcm' % (name, age, height))"
   ]
  },
  {
   "cell_type": "code",
   "execution_count": 5,
   "id": "bf6c3c71",
   "metadata": {},
   "outputs": [
    {
     "name": "stdout",
     "output_type": "stream",
     "text": [
      "학생 이름을 입력하세요:황예린\n",
      "국어 성적을 입력하세요:83\n",
      "영어 성적을 입력하세요:85\n",
      "수학 성적을 입력하세요:91\n",
      "이름:황예린, 국어:83, 영어:85, 수학:91, 평균:86.3\n"
     ]
    }
   ],
   "source": [
    "name = input('학생 이름을 입력하세요:')\n",
    "kor  = int(input('국어 성적을 입력하세요:'))\n",
    "eng  = int(input('영어 성적을 입력하세요:'))\n",
    "math = int(input('수학 성적을 입력하세요:'))\n",
    "avg  = (kor + eng + math) / 3\n",
    "print('이름:%s, 국어:%d, 영어:%d, 수학:%d, 평균:%.1f점' % (name, kor, eng, math, avg))"
   ]
  },
  {
   "cell_type": "code",
   "execution_count": 6,
   "id": "ab2a5d2f",
   "metadata": {},
   "outputs": [],
   "source": [
    "# 연산자 활용\n",
    "a = [\n",
    "    {'num':'1','name':'김철수','kor':90,'eng':80,'math':85,'total':0,'avg':0.0,'order':0},\n",
    "    {'num':'2','name':'박제동','kor':90,'eng':85,'math':90,'total':0,'avg':0.0,'order':0},\n",
    "    {'num':'3','name':'홍길동','kor':80,'eng':80,'math':80,'total':0,'avg':0.0,'order':0}\n",
    "]"
   ]
  },
  {
   "cell_type": "code",
   "execution_count": 7,
   "id": "ad4958ed",
   "metadata": {},
   "outputs": [
    {
     "name": "stdout",
     "output_type": "stream",
     "text": [
      "{'num': '1', 'name': '김철수', 'kor': 90, 'eng': 80, 'math': 85, 'total': 0, 'avg': 0.0, 'order': 0}\n"
     ]
    }
   ],
   "source": [
    "# 1번 학생 정보\n",
    "print(a[0])"
   ]
  },
  {
   "cell_type": "code",
   "execution_count": 8,
   "id": "3c317d1f",
   "metadata": {},
   "outputs": [
    {
     "name": "stdout",
     "output_type": "stream",
     "text": [
      "0\n"
     ]
    }
   ],
   "source": [
    "# 1번 학생 총점\n",
    "print(a[0]['total'])"
   ]
  },
  {
   "cell_type": "code",
   "execution_count": 9,
   "id": "aeb8e880",
   "metadata": {},
   "outputs": [
    {
     "name": "stdout",
     "output_type": "stream",
     "text": [
      "[{'num': '1', 'name': '김철수', 'kor': 90, 'eng': 80, 'math': 85, 'total': 1, 'avg': 0.0, 'order': 0}, {'num': '2', 'name': '박제동', 'kor': 90, 'eng': 85, 'math': 90, 'total': 0, 'avg': 0.0, 'order': 0}, {'num': '3', 'name': '홍길동', 'kor': 80, 'eng': 80, 'math': 80, 'total': 0, 'avg': 0.0, 'order': 0}]\n"
     ]
    }
   ],
   "source": [
    "# 1번 학생 총점 변경 -> 1\n",
    "a[0]['total'] = 1\n",
    "print(a)"
   ]
  },
  {
   "cell_type": "code",
   "execution_count": 13,
   "id": "bceafbd0",
   "metadata": {},
   "outputs": [
    {
     "name": "stdout",
     "output_type": "stream",
     "text": [
      "[{'num': '1', 'name': '김철수', 'kor': 90, 'eng': 80, 'math': 85, 'total': 255, 'avg': 0.0, 'order': 0}, {'num': '2', 'name': '박제동', 'kor': 90, 'eng': 85, 'math': 90, 'total': 265, 'avg': 0.0, 'order': 0}, {'num': '3', 'name': '홍길동', 'kor': 80, 'eng': 80, 'math': 80, 'total': 240, 'avg': 0.0, 'order': 0}]\n"
     ]
    }
   ],
   "source": [
    "# 학생별 총점 업데이트\n",
    "a[0]['total'] = a[0]['kor'] + a[0]['eng'] + a[0]['math']\n",
    "a[1]['total'] = a[1]['kor'] + a[1]['eng'] + a[1]['math']\n",
    "a[2]['total'] = a[2]['kor'] + a[2]['eng'] + a[2]['math']\n",
    "print(a)"
   ]
  },
  {
   "cell_type": "code",
   "execution_count": 14,
   "id": "0a2f2651",
   "metadata": {},
   "outputs": [
    {
     "name": "stdout",
     "output_type": "stream",
     "text": [
      "[{'num': '1', 'name': '김철수', 'kor': 90, 'eng': 80, 'math': 85, 'total': 255, 'avg': 85.0, 'order': 0}, {'num': '2', 'name': '박제동', 'kor': 90, 'eng': 85, 'math': 90, 'total': 265, 'avg': 88.33333333333333, 'order': 0}, {'num': '3', 'name': '홍길동', 'kor': 80, 'eng': 80, 'math': 80, 'total': 240, 'avg': 80.0, 'order': 0}]\n"
     ]
    }
   ],
   "source": [
    "# 학생별 평균 업데이트\n",
    "a[0]['avg'] = a[0]['total'] / 3 \n",
    "a[1]['avg'] = a[1]['total'] / 3\n",
    "a[2]['avg'] = a[2]['total'] / 3\n",
    "print(a)"
   ]
  },
  {
   "cell_type": "code",
   "execution_count": 19,
   "id": "eb4ae492",
   "metadata": {},
   "outputs": [
    {
     "name": "stdout",
     "output_type": "stream",
     "text": [
      "학급평균: 84.44점\n",
      "국어평균: 86.67점, 영어평균: 81.67점, 수학평균: 85.00점\n"
     ]
    }
   ],
   "source": [
    "# 학급 평균 구하기\n",
    "a_avg = sum([a[0]['avg'], a[1]['avg'], a[2]['avg']]) / len(a)\n",
    "print('학급평균: %.2f점' % a_avg)\n",
    "# 국어 평균 구하기\n",
    "a_kor_avg = (a[0]['kor'] + a[1]['kor'] + a[2]['kor']) / len(a)\n",
    "# 영어 평균 구하기\n",
    "a_eng_avg = (a[0]['eng'] + a[1]['eng'] + a[2]['eng']) / len(a)\n",
    "# 수학 평균 구하기\n",
    "a_math_avg = (a[0]['math'] + a[1]['math'] + a[2]['math']) / len(a)\n",
    "# 각 과목 평균 소수점 둘째자리까지 확인\n",
    "print('국어평균: %.2f점, 영어평균: %.2f점, 수학평균: %.2f점' %(a_kor_avg, a_eng_avg, a_math_avg))"
   ]
  },
  {
   "cell_type": "code",
   "execution_count": null,
   "id": "1c725328",
   "metadata": {},
   "outputs": [],
   "source": [
    "# order는 나중에 풀어보기"
   ]
  },
  {
   "cell_type": "code",
   "execution_count": 23,
   "id": "4cd51424",
   "metadata": {},
   "outputs": [
    {
     "name": "stdout",
     "output_type": "stream",
     "text": [
      "숫자를 입력하세요:0\n",
      "0 또는 음수!\n"
     ]
    }
   ],
   "source": [
    "x = int(input('숫자를 입력하세요:'))\n",
    "\n",
    "if x > 0:\n",
    "    print('양수!')\n",
    "else:\n",
    "    print('0 또는 음수!')"
   ]
  },
  {
   "cell_type": "code",
   "execution_count": 25,
   "id": "af8c6395",
   "metadata": {},
   "outputs": [
    {
     "name": "stdout",
     "output_type": "stream",
     "text": [
      "현재 보유중인 현금:4000\n",
      "버스를 탄다\n"
     ]
    }
   ],
   "source": [
    "# money = ?\n",
    "money = int(input('현재 보유중인 현금:'))\n",
    "\n",
    "if money >= 5000:\n",
    "    print('택시를 탄다')\n",
    "else:\n",
    "    print('버스를 탄다')"
   ]
  },
  {
   "cell_type": "code",
   "execution_count": 27,
   "id": "9ddad671",
   "metadata": {},
   "outputs": [
    {
     "name": "stdout",
     "output_type": "stream",
     "text": [
      "평점을 입력하세요:4.2\n"
     ]
    }
   ],
   "source": [
    "grade = float(input('평점을 입력하세요:'))\n",
    "\n",
    "if grade >= 4.3:\n",
    "    print('장학금 수여 대상')\n",
    "    print('축하합니다!')"
   ]
  },
  {
   "cell_type": "code",
   "execution_count": 31,
   "id": "5644bff3",
   "metadata": {},
   "outputs": [
    {
     "name": "stdout",
     "output_type": "stream",
     "text": [
      "숫자를 입력하세요:30\n",
      "짝수\n"
     ]
    }
   ],
   "source": [
    "num = int(input('숫자를 입력하세요:'))\n",
    "\n",
    "if num % 2 == 0:\n",
    "    print('짝수')\n",
    "else:\n",
    "    print('홀수')"
   ]
  },
  {
   "cell_type": "code",
   "execution_count": 34,
   "id": "98e27d7d",
   "metadata": {},
   "outputs": [
    {
     "name": "stdout",
     "output_type": "stream",
     "text": [
      "9 은(는) 홀수이다\n",
      "홀홀홀\n",
      "if문 끝\n"
     ]
    }
   ],
   "source": [
    "su = 9\n",
    "if su % 2 == 0:\n",
    "    print(su, '은(는) 짝수이다')\n",
    "    print('짝짝짝')\n",
    "else:\n",
    "    print(su, '은(는) 홀수이다')\n",
    "    print('홀홀홀')\n",
    "print('if문 끝')"
   ]
  },
  {
   "cell_type": "code",
   "execution_count": 36,
   "id": "2788429a",
   "metadata": {},
   "outputs": [
    {
     "name": "stdout",
     "output_type": "stream",
     "text": [
      "나이를 입력하세요: 38\n",
      "키를 입력하세요: 171\n",
      "보통 키\n"
     ]
    }
   ],
   "source": [
    "age    = int(input('나이를 입력하세요: '))\n",
    "height = int(input('키를 입력하세요: '))\n",
    "if age >= 40:\n",
    "    if height >= 170:\n",
    "        print('큰 키')\n",
    "    else:\n",
    "        print('보통 키')\n",
    "else:\n",
    "    if height >= 175:\n",
    "        print('큰 키')\n",
    "    else:\n",
    "        print('보통 키')"
   ]
  },
  {
   "cell_type": "code",
   "execution_count": 42,
   "id": "22d2dc1e",
   "metadata": {},
   "outputs": [
    {
     "name": "stdout",
     "output_type": "stream",
     "text": [
      "점수를 입력하세요:1\n",
      "F\n"
     ]
    }
   ],
   "source": [
    "score = int(input('점수를 입력하세요:'))\n",
    "if score >= 90:\n",
    "    print('A')\n",
    "else:\n",
    "    if score >= 80:\n",
    "        print('B')\n",
    "    else:\n",
    "        if score >= 70:\n",
    "            print('C')\n",
    "        else:\n",
    "            if score >= 60:\n",
    "                print('D')\n",
    "            else:\n",
    "                print('F')"
   ]
  },
  {
   "cell_type": "code",
   "execution_count": 44,
   "id": "6f51865a",
   "metadata": {},
   "outputs": [
    {
     "name": "stdout",
     "output_type": "stream",
     "text": [
      "점수를 입력하세요:55\n",
      "F\n"
     ]
    }
   ],
   "source": [
    "score = int(input('점수를 입력하세요:'))\n",
    "if score   >= 97:\n",
    "    print('A')\n",
    "elif score >= 80:\n",
    "    print('B')\n",
    "elif score >= 70:\n",
    "    print('C')\n",
    "elif score >= 60:\n",
    "    print('D')\n",
    "else:\n",
    "    print('F')"
   ]
  },
  {
   "cell_type": "code",
   "execution_count": 48,
   "id": "bd3b1ef3",
   "metadata": {},
   "outputs": [
    {
     "name": "stdout",
     "output_type": "stream",
     "text": [
      "필기 성적 입력:70\n",
      "실기 성적 입력:55\n",
      "불합격\n"
     ]
    }
   ],
   "source": [
    "score1 = int(input('필기 성적 입력:'))\n",
    "score2 = int(input('실기 성적 입력:'))\n",
    "\n",
    "if score1 >= 80 and score2 >= 80:\n",
    "    print('합격')\n",
    "else:\n",
    "    print('불합격')"
   ]
  },
  {
   "cell_type": "code",
   "execution_count": 52,
   "id": "6239d41f",
   "metadata": {},
   "outputs": [
    {
     "name": "stdout",
     "output_type": "stream",
     "text": [
      "아이디를 입력하세요:aaa\n",
      "회원 레벨을 입력하세요:2\n",
      "관리자가 아니다\n"
     ]
    }
   ],
   "source": [
    "# 홈페이지 관리자 여부\n",
    "ID = input('아이디를 입력하세요:')\n",
    "level = int(input('회원 레벨을 입력하세요:'))\n",
    "\n",
    "if ID == 'admin' or level == 1:\n",
    "    print('관리자이다')\n",
    "else:\n",
    "    print('관리자가 아니다')"
   ]
  },
  {
   "cell_type": "code",
   "execution_count": 65,
   "id": "e63ce09d",
   "metadata": {},
   "outputs": [
    {
     "name": "stdout",
     "output_type": "stream",
     "text": [
      "이름을 입력하세요:\n",
      "이름이 입력되지 않았습니다.\n"
     ]
    }
   ],
   "source": [
    "name = input('이름을 입력하세요:')\n",
    "\n",
    "if not name:\n",
    "    print('이름이 입력되지 않았습니다.')\n",
    "else:\n",
    "    print('이름: %s' % name)"
   ]
  },
  {
   "cell_type": "code",
   "execution_count": 69,
   "id": "9fb0c01a",
   "metadata": {},
   "outputs": [
    {
     "name": "stdout",
     "output_type": "stream",
     "text": [
      "나이를 입력하세요:65\n",
      "입장료:  무료\n"
     ]
    }
   ],
   "source": [
    "pay = '3000원'\n",
    "age = int(input('나이를 입력하세요:'))\n",
    "if age >= 65 or age < 7:\n",
    "    pay = '무료'\n",
    "print('입장료: ', pay)"
   ]
  },
  {
   "cell_type": "code",
   "execution_count": 71,
   "id": "bddde8c7",
   "metadata": {},
   "outputs": [
    {
     "name": "stdout",
     "output_type": "stream",
     "text": [
      "비밀번호를 입력하세요:123456\n",
      "비밀번호 Not OK!\n"
     ]
    }
   ],
   "source": [
    "real = '12345'\n",
    "password = input('비밀번호를 입력하세요:')\n",
    "\n",
    "if password == real:\n",
    "    print('비밀번호 OK!')\n",
    "else:\n",
    "    print('비밀번호 Not OK!')"
   ]
  },
  {
   "cell_type": "code",
   "execution_count": 76,
   "id": "988107eb",
   "metadata": {},
   "outputs": [
    {
     "name": "stdout",
     "output_type": "stream",
     "text": [
      "월을 입력하세요:9\n",
      "9월은 가을입니다\n"
     ]
    }
   ],
   "source": [
    "# 월 입력 시 계절 표시\n",
    "month = int(input('월을 입력하세요:'))\n",
    "if 3 <= month <= 5:\n",
    "    print('%d월은 봄입니다' % month)\n",
    "elif month == 6 or month == 7 or month == 8:\n",
    "    # month in [6, 7, 8]\n",
    "    print('%d월은 여름입니다' % month)\n",
    "elif month >= 9 and month <= 11:\n",
    "    print('%d월은 가을입니다' % month)\n",
    "else:\n",
    "    print('%d월은 겨울입니다' % month)"
   ]
  },
  {
   "cell_type": "code",
   "execution_count": 82,
   "id": "5f2e638f",
   "metadata": {
    "scrolled": true
   },
   "outputs": [
    {
     "name": "stdout",
     "output_type": "stream",
     "text": [
      "월을 입력하세요:9\n",
      "9월은 가을입니다\n"
     ]
    }
   ],
   "source": [
    "# 월 입력 시 계절 표시\n",
    "month = int(input('월을 입력하세요:'))\n",
    "if 3 <= month <= 5:\n",
    "    print('%d월은 봄입니다' % month)\n",
    "if month == 6 or month == 7 or month == 8:\n",
    "    # month in [6, 7, 8]\n",
    "    print('%d월은 여름입니다' % month)\n",
    "if month >= 9 and month <= 11:\n",
    "    print('%d월은 가을입니다' % month)\n",
    "if month in [12, 1, 2]:\n",
    "    print('%d월은 겨울입니다' % month)"
   ]
  },
  {
   "cell_type": "code",
   "execution_count": 86,
   "id": "e7c9dafb",
   "metadata": {},
   "outputs": [
    {
     "name": "stdout",
     "output_type": "stream",
     "text": [
      "좌석 종류를 입력해 주세요(1:일반실, 2:특실) :3\n"
     ]
    }
   ],
   "source": [
    "seat = input('좌석 종류를 입력해 주세요(1:일반실, 2:특실) :')\n",
    "seat1 = '일반실'\n",
    "seat2 = '특실'\n",
    "\n",
    "if seat == '1':\n",
    "    print('%s입니다' % seat1)\n",
    "elif seat == '2':\n",
    "    print('%s입니다' % seat2)"
   ]
  },
  {
   "cell_type": "code",
   "execution_count": 87,
   "id": "4289158a",
   "metadata": {},
   "outputs": [
    {
     "name": "stdout",
     "output_type": "stream",
     "text": [
      "좌석 종류를 입력해 주세요(1:일반실, 2:특실) :3\n",
      "특실입니다\n"
     ]
    }
   ],
   "source": [
    "seat = input('좌석 종류를 입력해 주세요(1:일반실, 2:특실) :')\n",
    "seat1 = '일반실'\n",
    "seat2 = '특실'\n",
    "\n",
    "if seat == '1':\n",
    "    print('%s입니다' % seat1)\n",
    "else:\n",
    "    print('%s입니다' % seat2)"
   ]
  },
  {
   "cell_type": "code",
   "execution_count": 93,
   "id": "289d88e5",
   "metadata": {},
   "outputs": [
    {
     "name": "stdout",
     "output_type": "stream",
     "text": [
      "알파벳을 입력하세요:f\n",
      "f은(는) 자음이다\n"
     ]
    }
   ],
   "source": [
    "char = input('알파벳을 입력하세요:')\n",
    "char2 = char.upper()\n",
    "\n",
    "if char2 in ['A', 'E', 'I', 'O', 'U']:\n",
    "    print('%s은(는) 모음이다' % char)\n",
    "else:\n",
    "    print('%s은(는) 자음이다' % char)"
   ]
  },
  {
   "cell_type": "code",
   "execution_count": 99,
   "id": "3176302a",
   "metadata": {},
   "outputs": [
    {
     "name": "stdout",
     "output_type": "stream",
     "text": [
      "첫 번째 정수 입력:1\n",
      "두 번째 정수 입력:1\n",
      "세 번째 정수 입력:1\n",
      "입력된 세 수 1, 1, 1 중에서 가장 큰 수는 1이다\n"
     ]
    }
   ],
   "source": [
    "# 세 개의 숫자 중 가장 큰 수 찾기\n",
    "num1 = int(input('첫 번째 정수 입력:'))\n",
    "num2 = int(input('두 번째 정수 입력:'))\n",
    "num3 = int(input('세 번째 정수 입력:'))\n",
    "\n",
    "if num1 >= num2 and num2 >= num3:\n",
    "    largest = num1\n",
    "elif num2 >= num1 and num2 >= num3:\n",
    "    largest = num2\n",
    "else:\n",
    "    largest = num3\n",
    "\n",
    "print('입력된 세 수 %d, %d, %d 중에서 가장 큰 수는 %d이다' % (num1, num2, num3, largest))"
   ]
  },
  {
   "cell_type": "code",
   "execution_count": 105,
   "id": "04ce8f82",
   "metadata": {},
   "outputs": [
    {
     "name": "stdout",
     "output_type": "stream",
     "text": [
      "서비스 만족도:\n",
      "1: 매우만족\n",
      "2: 만족\n",
      "3: 불만족 서비스\n",
      "만족도 입력 (1 또는 2 또는 3) :3\n",
      "음식값 입력 (예:8000) :10000\n",
      "서비스 만족도: 불만족, 팁: 500원\n"
     ]
    }
   ],
   "source": [
    "# 고객 만족도 팁 계산\n",
    "print('''서비스 만족도:\n",
    "1: 매우만족\n",
    "2: 만족\n",
    "3: 불만족 서비스''')\n",
    "a = input('만족도 입력 (1 또는 2 또는 3) :')\n",
    "price = int(input('음식값 입력 (예:8000) :'))\n",
    "\n",
    "if a == '1':\n",
    "    tip = price * 0.2\n",
    "    service = '매우만족'\n",
    "elif a == '2':\n",
    "    tip = price * 0.1\n",
    "    service = '만족'\n",
    "else:\n",
    "    tip = price * 0.05\n",
    "    service = '불만족'\n",
    "    \n",
    "print('서비스 만족도: %s, 팁: %d원' % (service, tip))"
   ]
  },
  {
   "cell_type": "code",
   "execution_count": 109,
   "id": "fe043a69",
   "metadata": {},
   "outputs": [
    {
     "name": "stdout",
     "output_type": "stream",
     "text": [
      "현재년:2022\n",
      "현재월:8\n",
      "현재일:25\n",
      "출생년:2000\n",
      "출생월:8\n",
      "출생일:25\n",
      "------------------------------\n",
      "오늘 날짜: 2022년 8월 25일\n",
      "생년 월일: 2000년 8월 25일\n",
      "------------------------------\n",
      "만 나이: 21세\n",
      "------------------------------\n"
     ]
    }
   ],
   "source": [
    "now_year    = int(input('현재년:'))\n",
    "now_month   = int(input('현재월:'))\n",
    "now_day     = int(input('현재일:'))\n",
    "birth_year  = int(input('출생년:'))\n",
    "birth_month = int(input('출생월:'))\n",
    "birth_day   = int(input('출생일:'))\n",
    "\n",
    "if birth_month in [1,2,3,4,5,6,7,9,10,11,12]:\n",
    "    age = now_year - birth_year\n",
    "elif birth_month == 8:\n",
    "    if birth_day <= 20:\n",
    "        age = now_year - birth_year\n",
    "    else:\n",
    "        age = now_year - birth_year - 1\n",
    "\n",
    "print('-' * 30)\n",
    "print('오늘 날짜: %d년 %d월 %d일' % (now_year, now_month, now_day))\n",
    "print('생년 월일: %d년 %d월 %d일' % (birth_year, birth_month, birth_day))\n",
    "print('-' * 30)\n",
    "print('만 나이: %d세' % age)\n",
    "print('-' * 30)"
   ]
  },
  {
   "cell_type": "code",
   "execution_count": null,
   "id": "9d916535",
   "metadata": {},
   "outputs": [],
   "source": []
  }
 ],
 "metadata": {
  "kernelspec": {
   "display_name": "Python 3 (ipykernel)",
   "language": "python",
   "name": "python3"
  },
  "language_info": {
   "codemirror_mode": {
    "name": "ipython",
    "version": 3
   },
   "file_extension": ".py",
   "mimetype": "text/x-python",
   "name": "python",
   "nbconvert_exporter": "python",
   "pygments_lexer": "ipython3",
   "version": "3.9.12"
  }
 },
 "nbformat": 4,
 "nbformat_minor": 5
}
