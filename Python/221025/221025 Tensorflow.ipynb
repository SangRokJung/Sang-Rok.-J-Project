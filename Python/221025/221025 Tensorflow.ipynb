{
 "cells": [
  {
   "cell_type": "code",
   "execution_count": 3,
   "id": "f08214ee",
   "metadata": {},
   "outputs": [],
   "source": [
    "import pandas as pd\n",
    "import numpy as np\n",
    "import matplotlib.pyplot as plt\n",
    "import seaborn as sns\n",
    "from sklearn.preprocessing import LabelEncoder\n",
    "from sklearn.model_selection import train_test_split, GridSearchCV\n",
    "from sklearn.tree import DecisionTreeClassifier\n",
    "from sklearn.ensemble import RandomForestClassifier\n",
    "from sklearn.ensemble import BaggingClassifier\n",
    "from sklearn.ensemble import ExtraTreesClassifier \n",
    "from sklearn.neighbors import KNeighborsClassifier\n",
    "from sklearn.linear_model import LogisticRegression\n",
    "from sklearn.svm import SVC\n",
    "from sklearn.ensemble import VotingClassifier\n",
    "from sklearn.model_selection import GridSearchCV, cross_val_score\n",
    "from sklearn.ensemble import GradientBoostingClassifier\n",
    "from sklearn.ensemble import HistGradientBoostingClassifier\n",
    "from sklearn.metrics import mean_squared_error\n",
    "from sklearn.tree import plot_tree\n",
    "from sklearn import metrics\n",
    "from sklearn.metrics import accuracy_score, precision_score, recall_score, confusion_matrix, roc_auc_score\n",
    "from sklearn.linear_model import LinearRegression\n",
    "from sklearn.metrics import r2_score\n",
    "from sklearn.linear_model import Ridge\n",
    "from sklearn.preprocessing import PolynomialFeatures\n",
    "\n",
    "import warnings"
   ]
  },
  {
   "cell_type": "code",
   "execution_count": null,
   "id": "a4e2f568",
   "metadata": {},
   "outputs": [],
   "source": [
    "!pip install tensorflow"
   ]
  },
  {
   "cell_type": "code",
   "execution_count": 72,
   "id": "5055f01d",
   "metadata": {},
   "outputs": [],
   "source": [
    "import tensorflow as tf"
   ]
  },
  {
   "cell_type": "code",
   "execution_count": 11,
   "id": "6eb231ba",
   "metadata": {},
   "outputs": [
    {
     "name": "stdout",
     "output_type": "stream",
     "text": [
      "3.9.12 (main, Apr  5 2022, 01:53:17) \n",
      "[Clang 12.0.0 ]\n"
     ]
    }
   ],
   "source": [
    "tensorflow.version.VERSION\n",
    "\n",
    "import sys\n",
    "print(sys.version)"
   ]
  },
  {
   "cell_type": "code",
   "execution_count": 12,
   "id": "d438fcc9",
   "metadata": {},
   "outputs": [],
   "source": [
    "from tensorflow import keras\n",
    "from tensorflow.keras.datasets import mnist"
   ]
  },
  {
   "cell_type": "code",
   "execution_count": 13,
   "id": "72558522",
   "metadata": {},
   "outputs": [
    {
     "name": "stdout",
     "output_type": "stream",
     "text": [
      "Downloading data from https://storage.googleapis.com/tensorflow/tf-keras-datasets/mnist.npz\n",
      "11490434/11490434 [==============================] - 0s 0us/step\n"
     ]
    }
   ],
   "source": [
    "(train_images, train_labels), (test_images, test_labels) = mnist.load_data()"
   ]
  },
  {
   "cell_type": "code",
   "execution_count": 23,
   "id": "30612f11",
   "metadata": {},
   "outputs": [
    {
     "name": "stdout",
     "output_type": "stream",
     "text": [
      "3\n",
      "(60000, 28, 28)\n",
      "uint8\n"
     ]
    },
    {
     "data": {
      "image/png": "[encoded data removed]",
      "text/plain": [
       "<Figure size 432x288 with 1 Axes>"
      ]
     },
     "metadata": {
      "needs_background": "light"
     },
     "output_type": "display_data"
    }
   ],
   "source": [
    "print(train_images.ndim)\n",
    "print(train_images.shape) # 데이터수, 행, 열\n",
    "print(train_images.dtype)\n",
    "\n",
    "digit = train_images[59999]\n",
    "plt.imshow(digit, cmap=plt.cm.binary)\n",
    "plt.show()"
   ]
  },
  {
   "cell_type": "code",
   "execution_count": 24,
   "id": "69ae6ef9",
   "metadata": {},
   "outputs": [
    {
     "name": "stdout",
     "output_type": "stream",
     "text": [
      "(90, 28, 28)\n"
     ]
    }
   ],
   "source": [
    "my_slice = train_images[10:100]\n",
    "print(my_slice.shape)"
   ]
  },
  {
   "cell_type": "code",
   "execution_count": 26,
   "id": "02eeeba0",
   "metadata": {},
   "outputs": [
    {
     "data": {
      "text/plain": [
       "(90, 28, 28)"
      ]
     },
     "execution_count": 26,
     "metadata": {},
     "output_type": "execute_result"
    }
   ],
   "source": [
    "# 자세한 표기법\n",
    "my_slice = train_images[10:100, :, :]\n",
    "my_slice.shape\n",
    "\n",
    "my_slice = train_images[10:100, 0:28, 0:28]\n",
    "my_slice.shape"
   ]
  },
  {
   "cell_type": "code",
   "execution_count": 52,
   "id": "b75bfecd",
   "metadata": {},
   "outputs": [
    {
     "data": {
      "image/png": "[encoded data removed]",
      "text/plain": [
       "<Figure size 432x288 with 1 Axes>"
      ]
     },
     "metadata": {
      "needs_background": "light"
     },
     "output_type": "display_data"
    }
   ],
   "source": [
    "my_slice = train_images[:, 14:, 14:]\n",
    "plt.imshow(my_slice[4], cmap=plt.cm.binary)\n",
    "plt.show()"
   ]
  },
  {
   "cell_type": "code",
   "execution_count": 55,
   "id": "0c53d337",
   "metadata": {},
   "outputs": [
    {
     "data": {
      "image/png": "[encoded data removed]",
      "text/plain": [
       "<Figure size 432x288 with 1 Axes>"
      ]
     },
     "metadata": {
      "needs_background": "light"
     },
     "output_type": "display_data"
    }
   ],
   "source": [
    "my_slice = train_images[:, :-7, :-7]\n",
    "plt.imshow(my_slice[4], cmap=plt.cm.binary)\n",
    "plt.show()"
   ]
  },
  {
   "cell_type": "code",
   "execution_count": 59,
   "id": "2574d1bd",
   "metadata": {},
   "outputs": [],
   "source": [
    "batch1 = train_images[:128]\n",
    "batch2 = train_images[128:256]\n",
    "\n",
    "# n번째 batch\n",
    "n = 3\n",
    "batch3 = train_images[128 * n : 128 * (n+1)]"
   ]
  },
  {
   "cell_type": "code",
   "execution_count": 63,
   "id": "f5a7dba6",
   "metadata": {},
   "outputs": [
    {
     "data": {
      "image/png": "[encoded data removed]",
      "text/plain": [
       "<Figure size 432x288 with 1 Axes>"
      ]
     },
     "metadata": {
      "needs_background": "light"
     },
     "output_type": "display_data"
    }
   ],
   "source": [
    "plt.imshow(batch3[1], cmap=plt.cm.binary)\n",
    "plt.show()"
   ]
  },
  {
   "cell_type": "code",
   "execution_count": 71,
   "id": "cfc40200",
   "metadata": {},
   "outputs": [
    {
     "data": {
      "text/plain": [
       "14"
      ]
     },
     "execution_count": 71,
     "metadata": {},
     "output_type": "execute_result"
    }
   ],
   "source": [
    "from tensorflow.keras import models, layers, Sequential\n",
    "from tensorflow.keras.layers import Dense\n",
    "\n",
    "tf_boston = Sequential()\n",
    "tf_boston.add(Dense(1, input_dim=13, activation='linear'))\n",
    "tf_boston.count_params()"
   ]
  },
  {
   "cell_type": "code",
   "execution_count": 73,
   "id": "5793de68",
   "metadata": {},
   "outputs": [
    {
     "name": "stdout",
     "output_type": "stream",
     "text": [
      "Downloading data from https://storage.googleapis.com/tensorflow/tf-keras-datasets/boston_housing.npz\n",
      "57026/57026 [==============================] - 0s 0us/step\n"
     ]
    }
   ],
   "source": [
    "import tensorflow as tf\n",
    "from tensorflow import keras\n",
    "from tensorflow.keras.datasets import boston_housing\n",
    "\n",
    "(train_data, train_targets), (test_data, test_targets) = boston_housing.load_data()\n",
    "boston_housing.load_data()\n",
    "\n",
    "train_data.shape  # 404개의 훈련 샘플\n",
    "test_data.shape   # 102개의 테스트 샘플\n",
    "train_targets        # 주택 가격 (1만 달러 ~ 5만 달러 사이)\n",
    "\n",
    "#데이터 정규화 (평균 0, 표준편차 1\n",
    "mean = train_data.mean(axis=0)\n",
    "train_data -= mean\n",
    "std = train_data.std(axis=0)\n",
    "train_data /= std\n",
    "test_data -= mean\n",
    "test_data /= std"
   ]
  },
  {
   "cell_type": "code",
   "execution_count": 80,
   "id": "2a98bd7c",
   "metadata": {},
   "outputs": [
    {
     "name": "stdout",
     "output_type": "stream",
     "text": [
      "Epoch 1/50\n",
      "323/323 - 1s - loss: 31.4836 - val_loss: 42.4371 - 579ms/epoch - 2ms/step\n",
      "Epoch 2/50\n",
      "323/323 - 0s - loss: 31.2887 - val_loss: 41.9172 - 287ms/epoch - 890us/step\n",
      "Epoch 3/50\n",
      "323/323 - 0s - loss: 31.0366 - val_loss: 41.3571 - 368ms/epoch - 1ms/step\n",
      "Epoch 4/50\n",
      "323/323 - 0s - loss: 30.7944 - val_loss: 40.8322 - 328ms/epoch - 1ms/step\n",
      "Epoch 5/50\n",
      "323/323 - 0s - loss: 30.5446 - val_loss: 40.3597 - 248ms/epoch - 769us/step\n",
      "Epoch 6/50\n",
      "323/323 - 0s - loss: 30.2961 - val_loss: 39.9696 - 264ms/epoch - 817us/step\n",
      "Epoch 7/50\n",
      "323/323 - 0s - loss: 30.1276 - val_loss: 39.6246 - 300ms/epoch - 928us/step\n",
      "Epoch 8/50\n",
      "323/323 - 0s - loss: 29.9233 - val_loss: 39.2768 - 274ms/epoch - 848us/step\n",
      "Epoch 9/50\n",
      "323/323 - 0s - loss: 29.7416 - val_loss: 38.8609 - 259ms/epoch - 801us/step\n",
      "Epoch 10/50\n",
      "323/323 - 0s - loss: 29.5121 - val_loss: 38.3682 - 261ms/epoch - 808us/step\n",
      "Epoch 11/50\n",
      "323/323 - 0s - loss: 29.3371 - val_loss: 38.0110 - 262ms/epoch - 812us/step\n",
      "Epoch 12/50\n",
      "323/323 - 0s - loss: 29.1203 - val_loss: 37.6607 - 264ms/epoch - 816us/step\n",
      "Epoch 13/50\n",
      "323/323 - 0s - loss: 28.9716 - val_loss: 37.2558 - 255ms/epoch - 791us/step\n",
      "Epoch 14/50\n",
      "323/323 - 0s - loss: 28.7938 - val_loss: 36.8774 - 272ms/epoch - 843us/step\n",
      "Epoch 15/50\n",
      "323/323 - 0s - loss: 28.5986 - val_loss: 36.4686 - 277ms/epoch - 857us/step\n",
      "Epoch 16/50\n",
      "323/323 - 0s - loss: 28.4186 - val_loss: 36.0842 - 275ms/epoch - 851us/step\n",
      "Epoch 17/50\n",
      "323/323 - 0s - loss: 28.2184 - val_loss: 35.6957 - 259ms/epoch - 801us/step\n",
      "Epoch 18/50\n",
      "323/323 - 0s - loss: 28.1058 - val_loss: 35.4219 - 270ms/epoch - 836us/step\n",
      "Epoch 19/50\n",
      "323/323 - 0s - loss: 27.9843 - val_loss: 35.0850 - 255ms/epoch - 788us/step\n",
      "Epoch 20/50\n",
      "323/323 - 0s - loss: 27.8354 - val_loss: 34.7810 - 302ms/epoch - 934us/step\n",
      "Epoch 21/50\n",
      "323/323 - 0s - loss: 27.6769 - val_loss: 34.4477 - 272ms/epoch - 843us/step\n",
      "Epoch 22/50\n",
      "323/323 - 0s - loss: 27.5293 - val_loss: 34.2089 - 311ms/epoch - 963us/step\n",
      "Epoch 23/50\n",
      "323/323 - 0s - loss: 27.3951 - val_loss: 34.0272 - 277ms/epoch - 857us/step\n",
      "Epoch 24/50\n",
      "323/323 - 0s - loss: 27.3160 - val_loss: 33.8564 - 268ms/epoch - 829us/step\n",
      "Epoch 25/50\n",
      "323/323 - 0s - loss: 27.1931 - val_loss: 33.5201 - 265ms/epoch - 819us/step\n",
      "Epoch 26/50\n",
      "323/323 - 0s - loss: 27.0591 - val_loss: 33.0800 - 264ms/epoch - 817us/step\n",
      "Epoch 27/50\n",
      "323/323 - 0s - loss: 26.9324 - val_loss: 32.7884 - 263ms/epoch - 815us/step\n",
      "Epoch 28/50\n",
      "323/323 - 0s - loss: 26.8062 - val_loss: 32.5776 - 259ms/epoch - 803us/step\n",
      "Epoch 29/50\n",
      "323/323 - 0s - loss: 26.7157 - val_loss: 32.4425 - 277ms/epoch - 856us/step\n",
      "Epoch 30/50\n",
      "323/323 - 0s - loss: 26.5834 - val_loss: 32.2678 - 295ms/epoch - 912us/step\n",
      "Epoch 31/50\n",
      "323/323 - 0s - loss: 26.5136 - val_loss: 31.9791 - 271ms/epoch - 838us/step\n",
      "Epoch 32/50\n",
      "323/323 - 0s - loss: 26.4160 - val_loss: 31.7930 - 264ms/epoch - 818us/step\n",
      "Epoch 33/50\n",
      "323/323 - 0s - loss: 26.3065 - val_loss: 31.5282 - 267ms/epoch - 827us/step\n",
      "Epoch 34/50\n",
      "323/323 - 0s - loss: 26.1743 - val_loss: 31.2808 - 265ms/epoch - 822us/step\n",
      "Epoch 35/50\n",
      "323/323 - 0s - loss: 26.1174 - val_loss: 31.0942 - 268ms/epoch - 830us/step\n",
      "Epoch 36/50\n",
      "323/323 - 0s - loss: 26.0104 - val_loss: 30.9518 - 281ms/epoch - 871us/step\n",
      "Epoch 37/50\n",
      "323/323 - 0s - loss: 25.9711 - val_loss: 30.7970 - 309ms/epoch - 956us/step\n",
      "Epoch 38/50\n",
      "323/323 - 0s - loss: 25.8624 - val_loss: 30.6035 - 274ms/epoch - 847us/step\n",
      "Epoch 39/50\n",
      "323/323 - 0s - loss: 25.8091 - val_loss: 30.4139 - 282ms/epoch - 872us/step\n",
      "Epoch 40/50\n",
      "323/323 - 0s - loss: 25.7297 - val_loss: 30.1792 - 283ms/epoch - 878us/step\n",
      "Epoch 41/50\n",
      "323/323 - 0s - loss: 25.6374 - val_loss: 30.0019 - 262ms/epoch - 812us/step\n",
      "Epoch 42/50\n",
      "323/323 - 0s - loss: 25.5741 - val_loss: 29.8190 - 262ms/epoch - 810us/step\n",
      "Epoch 43/50\n",
      "323/323 - 0s - loss: 25.5091 - val_loss: 29.6660 - 261ms/epoch - 809us/step\n",
      "Epoch 44/50\n",
      "323/323 - 0s - loss: 25.4425 - val_loss: 29.6895 - 264ms/epoch - 816us/step\n",
      "Epoch 45/50\n",
      "323/323 - 0s - loss: 25.4115 - val_loss: 29.5127 - 258ms/epoch - 798us/step\n",
      "Epoch 46/50\n",
      "323/323 - 0s - loss: 25.3148 - val_loss: 29.2824 - 257ms/epoch - 796us/step\n",
      "Epoch 47/50\n",
      "323/323 - 0s - loss: 25.2646 - val_loss: 29.0976 - 258ms/epoch - 799us/step\n",
      "Epoch 48/50\n",
      "323/323 - 0s - loss: 25.1683 - val_loss: 29.0042 - 250ms/epoch - 774us/step\n",
      "Epoch 49/50\n",
      "323/323 - 0s - loss: 25.1271 - val_loss: 28.8745 - 265ms/epoch - 820us/step\n",
      "Epoch 50/50\n",
      "323/323 - 0s - loss: 25.0849 - val_loss: 28.7950 - 233ms/epoch - 722us/step\n",
      "4/4 [==============================] - 0s 1ms/step - loss: 18.5006\n"
     ]
    },
    {
     "data": {
      "text/plain": [
       "18.500625610351562"
      ]
     },
     "execution_count": 80,
     "metadata": {},
     "output_type": "execute_result"
    }
   ],
   "source": [
    "df = pd.DataFrame(train_data, columns=['CRIM', 'ZN', 'INDUS', 'CHAS', 'NOX', \n",
    "                                       'RM', 'AGE', 'DIS', 'RAD', 'TAX', \n",
    "                                       'PTRATIO', 'B', \"RSTAT\"])\n",
    "\n",
    "df['MEDV'] = train_targets\n",
    "\n",
    "# Model complie\n",
    "tf_boston.compile(loss='mse')\n",
    "\n",
    "# Model fit\n",
    "tf_boston.fit(train_data, train_targets, epochs=50, batch_size=1, \n",
    "              verbose=2, validation_split=0.2)\n",
    "\n",
    "# Model 평가\n",
    "tf_boston.evaluate(test_data, test_targets)\n"
   ]
  },
  {
   "cell_type": "code",
   "execution_count": 77,
   "id": "f4e2ea6c",
   "metadata": {},
   "outputs": [
    {
     "data": {
      "text/html": [
       "<div>\n",
       "<style scoped>\n",
       "    .dataframe tbody tr th:only-of-type {\n",
       "        vertical-align: middle;\n",
       "    }\n",
       "\n",
       "    .dataframe tbody tr th {\n",
       "        vertical-align: top;\n",
       "    }\n",
       "\n",
       "    .dataframe thead th {\n",
       "        text-align: right;\n",
       "    }\n",
       "</style>\n",
       "<table border=\"1\" class=\"dataframe\">\n",
       "  <thead>\n",
       "    <tr style=\"text-align: right;\">\n",
       "      <th></th>\n",
       "      <th>CRIM</th>\n",
       "      <th>ZN</th>\n",
       "      <th>INDUS</th>\n",
       "      <th>CHAS</th>\n",
       "      <th>NOX</th>\n",
       "      <th>RM</th>\n",
       "      <th>AGE</th>\n",
       "      <th>DIS</th>\n",
       "      <th>RAD</th>\n",
       "      <th>TAX</th>\n",
       "      <th>PTRATIO</th>\n",
       "      <th>B</th>\n",
       "      <th>RSTAT</th>\n",
       "      <th>MEDV</th>\n",
       "    </tr>\n",
       "  </thead>\n",
       "  <tbody>\n",
       "    <tr>\n",
       "      <th>0</th>\n",
       "      <td>-0.272246</td>\n",
       "      <td>-0.483615</td>\n",
       "      <td>-0.435762</td>\n",
       "      <td>-0.256833</td>\n",
       "      <td>-0.165227</td>\n",
       "      <td>-0.176443</td>\n",
       "      <td>0.813062</td>\n",
       "      <td>0.116698</td>\n",
       "      <td>-0.626249</td>\n",
       "      <td>-0.595170</td>\n",
       "      <td>1.148500</td>\n",
       "      <td>0.448077</td>\n",
       "      <td>0.825220</td>\n",
       "      <td>15.2</td>\n",
       "    </tr>\n",
       "    <tr>\n",
       "      <th>1</th>\n",
       "      <td>-0.403427</td>\n",
       "      <td>2.991784</td>\n",
       "      <td>-1.333912</td>\n",
       "      <td>-0.256833</td>\n",
       "      <td>-1.215182</td>\n",
       "      <td>1.894346</td>\n",
       "      <td>-1.910361</td>\n",
       "      <td>1.247585</td>\n",
       "      <td>-0.856463</td>\n",
       "      <td>-0.348433</td>\n",
       "      <td>-1.718189</td>\n",
       "      <td>0.431906</td>\n",
       "      <td>-1.329202</td>\n",
       "      <td>42.3</td>\n",
       "    </tr>\n",
       "    <tr>\n",
       "      <th>2</th>\n",
       "      <td>0.124940</td>\n",
       "      <td>-0.483615</td>\n",
       "      <td>1.028326</td>\n",
       "      <td>-0.256833</td>\n",
       "      <td>0.628642</td>\n",
       "      <td>-1.829688</td>\n",
       "      <td>1.110488</td>\n",
       "      <td>-1.187439</td>\n",
       "      <td>1.675886</td>\n",
       "      <td>1.565287</td>\n",
       "      <td>0.784476</td>\n",
       "      <td>0.220617</td>\n",
       "      <td>-1.308500</td>\n",
       "      <td>50.0</td>\n",
       "    </tr>\n",
       "    <tr>\n",
       "      <th>3</th>\n",
       "      <td>-0.401494</td>\n",
       "      <td>-0.483615</td>\n",
       "      <td>-0.869402</td>\n",
       "      <td>-0.256833</td>\n",
       "      <td>-0.361560</td>\n",
       "      <td>-0.324558</td>\n",
       "      <td>-1.236672</td>\n",
       "      <td>1.107180</td>\n",
       "      <td>-0.511142</td>\n",
       "      <td>-1.094663</td>\n",
       "      <td>0.784476</td>\n",
       "      <td>0.448077</td>\n",
       "      <td>-0.652926</td>\n",
       "      <td>21.1</td>\n",
       "    </tr>\n",
       "    <tr>\n",
       "      <th>4</th>\n",
       "      <td>-0.005634</td>\n",
       "      <td>-0.483615</td>\n",
       "      <td>1.028326</td>\n",
       "      <td>-0.256833</td>\n",
       "      <td>1.328612</td>\n",
       "      <td>0.153642</td>\n",
       "      <td>0.694808</td>\n",
       "      <td>-0.578572</td>\n",
       "      <td>1.675886</td>\n",
       "      <td>1.565287</td>\n",
       "      <td>0.784476</td>\n",
       "      <td>0.389882</td>\n",
       "      <td>0.263497</td>\n",
       "      <td>17.7</td>\n",
       "    </tr>\n",
       "    <tr>\n",
       "      <th>...</th>\n",
       "      <td>...</td>\n",
       "      <td>...</td>\n",
       "      <td>...</td>\n",
       "      <td>...</td>\n",
       "      <td>...</td>\n",
       "      <td>...</td>\n",
       "      <td>...</td>\n",
       "      <td>...</td>\n",
       "      <td>...</td>\n",
       "      <td>...</td>\n",
       "      <td>...</td>\n",
       "      <td>...</td>\n",
       "      <td>...</td>\n",
       "      <td>...</td>\n",
       "    </tr>\n",
       "    <tr>\n",
       "      <th>399</th>\n",
       "      <td>-0.381973</td>\n",
       "      <td>-0.483615</td>\n",
       "      <td>-0.616568</td>\n",
       "      <td>-0.256833</td>\n",
       "      <td>-0.933487</td>\n",
       "      <td>-0.938177</td>\n",
       "      <td>-0.251223</td>\n",
       "      <td>1.157680</td>\n",
       "      <td>-0.741356</td>\n",
       "      <td>-1.040501</td>\n",
       "      <td>-0.262093</td>\n",
       "      <td>0.448077</td>\n",
       "      <td>0.477421</td>\n",
       "      <td>19.4</td>\n",
       "    </tr>\n",
       "    <tr>\n",
       "      <th>400</th>\n",
       "      <td>-0.388221</td>\n",
       "      <td>0.358906</td>\n",
       "      <td>-0.609218</td>\n",
       "      <td>-0.256833</td>\n",
       "      <td>-0.796907</td>\n",
       "      <td>-0.038202</td>\n",
       "      <td>-1.888860</td>\n",
       "      <td>0.339660</td>\n",
       "      <td>-0.741356</td>\n",
       "      <td>-1.100681</td>\n",
       "      <td>0.056428</td>\n",
       "      <td>0.448077</td>\n",
       "      <td>-0.848908</td>\n",
       "      <td>25.2</td>\n",
       "    </tr>\n",
       "    <tr>\n",
       "      <th>401</th>\n",
       "      <td>-0.402030</td>\n",
       "      <td>0.990797</td>\n",
       "      <td>-0.741515</td>\n",
       "      <td>-0.256833</td>\n",
       "      <td>-1.019702</td>\n",
       "      <td>-0.333021</td>\n",
       "      <td>-1.638018</td>\n",
       "      <td>1.430403</td>\n",
       "      <td>-0.971569</td>\n",
       "      <td>-0.613224</td>\n",
       "      <td>-0.717123</td>\n",
       "      <td>0.079439</td>\n",
       "      <td>-0.677769</td>\n",
       "      <td>19.4</td>\n",
       "    </tr>\n",
       "    <tr>\n",
       "      <th>402</th>\n",
       "      <td>-0.172920</td>\n",
       "      <td>-0.483615</td>\n",
       "      <td>1.245881</td>\n",
       "      <td>-0.256833</td>\n",
       "      <td>2.677335</td>\n",
       "      <td>-0.787241</td>\n",
       "      <td>1.056737</td>\n",
       "      <td>-1.044075</td>\n",
       "      <td>-0.511142</td>\n",
       "      <td>-0.017443</td>\n",
       "      <td>-1.718189</td>\n",
       "      <td>-0.987644</td>\n",
       "      <td>0.420835</td>\n",
       "      <td>19.4</td>\n",
       "    </tr>\n",
       "    <tr>\n",
       "      <th>403</th>\n",
       "      <td>-0.404226</td>\n",
       "      <td>2.043948</td>\n",
       "      <td>-1.201615</td>\n",
       "      <td>-0.256833</td>\n",
       "      <td>-1.334689</td>\n",
       "      <td>0.475263</td>\n",
       "      <td>-1.799274</td>\n",
       "      <td>1.222729</td>\n",
       "      <td>-0.971569</td>\n",
       "      <td>-0.847926</td>\n",
       "      <td>-1.308662</td>\n",
       "      <td>0.233171</td>\n",
       "      <td>-1.153923</td>\n",
       "      <td>29.1</td>\n",
       "    </tr>\n",
       "  </tbody>\n",
       "</table>\n",
       "<p>404 rows × 14 columns</p>\n",
       "</div>"
      ],
      "text/plain": [
       "         CRIM        ZN     INDUS      CHAS       NOX        RM       AGE  \\\n",
       "0   -0.272246 -0.483615 -0.435762 -0.256833 -0.165227 -0.176443  0.813062   \n",
       "1   -0.403427  2.991784 -1.333912 -0.256833 -1.215182  1.894346 -1.910361   \n",
       "2    0.124940 -0.483615  1.028326 -0.256833  0.628642 -1.829688  1.110488   \n",
       "3   -0.401494 -0.483615 -0.869402 -0.256833 -0.361560 -0.324558 -1.236672   \n",
       "4   -0.005634 -0.483615  1.028326 -0.256833  1.328612  0.153642  0.694808   \n",
       "..        ...       ...       ...       ...       ...       ...       ...   \n",
       "399 -0.381973 -0.483615 -0.616568 -0.256833 -0.933487 -0.938177 -0.251223   \n",
       "400 -0.388221  0.358906 -0.609218 -0.256833 -0.796907 -0.038202 -1.888860   \n",
       "401 -0.402030  0.990797 -0.741515 -0.256833 -1.019702 -0.333021 -1.638018   \n",
       "402 -0.172920 -0.483615  1.245881 -0.256833  2.677335 -0.787241  1.056737   \n",
       "403 -0.404226  2.043948 -1.201615 -0.256833 -1.334689  0.475263 -1.799274   \n",
       "\n",
       "          DIS       RAD       TAX   PTRATIO         B     RSTAT  MEDV  \n",
       "0    0.116698 -0.626249 -0.595170  1.148500  0.448077  0.825220  15.2  \n",
       "1    1.247585 -0.856463 -0.348433 -1.718189  0.431906 -1.329202  42.3  \n",
       "2   -1.187439  1.675886  1.565287  0.784476  0.220617 -1.308500  50.0  \n",
       "3    1.107180 -0.511142 -1.094663  0.784476  0.448077 -0.652926  21.1  \n",
       "4   -0.578572  1.675886  1.565287  0.784476  0.389882  0.263497  17.7  \n",
       "..        ...       ...       ...       ...       ...       ...   ...  \n",
       "399  1.157680 -0.741356 -1.040501 -0.262093  0.448077  0.477421  19.4  \n",
       "400  0.339660 -0.741356 -1.100681  0.056428  0.448077 -0.848908  25.2  \n",
       "401  1.430403 -0.971569 -0.613224 -0.717123  0.079439 -0.677769  19.4  \n",
       "402 -1.044075 -0.511142 -0.017443 -1.718189 -0.987644  0.420835  19.4  \n",
       "403  1.222729 -0.971569 -0.847926 -1.308662  0.233171 -1.153923  29.1  \n",
       "\n",
       "[404 rows x 14 columns]"
      ]
     },
     "execution_count": 77,
     "metadata": {},
     "output_type": "execute_result"
    }
   ],
   "source": [
    "df"
   ]
  },
  {
   "cell_type": "code",
   "execution_count": null,
   "id": "d16bef90",
   "metadata": {},
   "outputs": [],
   "source": []
  }
 ],
 "metadata": {
  "kernelspec": {
   "display_name": "Python 3 (ipykernel)",
   "language": "python",
   "name": "python3"
  },
  "language_info": {
   "codemirror_mode": {
    "name": "ipython",
    "version": 3
   },
   "file_extension": ".py",
   "mimetype": "text/x-python",
   "name": "python",
   "nbconvert_exporter": "python",
   "pygments_lexer": "ipython3",
   "version": "3.9.12"
  }
 },
 "nbformat": 4,
 "nbformat_minor": 5
}
