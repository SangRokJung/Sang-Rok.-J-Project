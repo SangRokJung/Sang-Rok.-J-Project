{
 "cells": [
  {
   "cell_type": "code",
   "execution_count": 83,
   "id": "1aebba86",
   "metadata": {},
   "outputs": [],
   "source": [
    "import os \n",
    "import cv2\n",
    "import random\n",
    "import tensorflow as tf\n",
    "import numpy as np\n",
    "import pandas as pd\n",
    "import matplotlib.pyplot as plt\n",
    "from tensorflow.keras.models import Sequential\n",
    "from tensorflow.keras.utils import to_categorical\n",
    "from tensorflow.keras.layers import LSTM, Dense, Dropout, Conv2D, MaxPooling2D, Flatten\n",
    "import warnings\n",
    "warnings.filterwarnings(action='ignore') "
   ]
  },
  {
   "cell_type": "code",
   "execution_count": 40,
   "id": "71b34940",
   "metadata": {},
   "outputs": [
    {
     "name": "stdout",
     "output_type": "stream",
     "text": [
      "Collecting pymysql\n",
      "  Downloading PyMySQL-1.0.2-py3-none-any.whl (43 kB)\n",
      "Installing collected packages: pymysql\n",
      "Successfully installed pymysql-1.0.2\n",
      "Note: you may need to restart the kernel to use updated packages.\n"
     ]
    }
   ],
   "source": [
    "pip install pymysql"
   ]
  },
  {
   "cell_type": "code",
   "execution_count": 84,
   "id": "fa11e188",
   "metadata": {},
   "outputs": [],
   "source": [
    "import pymysql"
   ]
  },
  {
   "cell_type": "code",
   "execution_count": 85,
   "id": "d437bb96",
   "metadata": {},
   "outputs": [],
   "source": [
    "conn = pymysql.connect(host='192.168.0.6', user='dsc', password='encore7302!@#', db='cnn', charset='utf8')"
   ]
  },
  {
   "cell_type": "code",
   "execution_count": 86,
   "id": "53911fe6",
   "metadata": {},
   "outputs": [],
   "source": [
    "cur = conn.cursor()"
   ]
  },
  {
   "cell_type": "code",
   "execution_count": 87,
   "id": "c85a07f5",
   "metadata": {},
   "outputs": [
    {
     "data": {
      "text/plain": [
       "(135, 28, 28)"
      ]
     },
     "execution_count": 87,
     "metadata": {},
     "output_type": "execute_result"
    }
   ],
   "source": [
    "path = 'C:/Users/PythonPrac/Conv_Prac/img_r/' # folder path\n",
    "os.chdir(path) # move to the folder\n",
    "files = os.listdir(path) # 해당 폴더에 있는 파일 이름을 리스트 형태로 받음\n",
    "r_imgs = []\n",
    "for file in files:\n",
    "    if '.jpg' in file or '.jpeg' in file: \n",
    "        f = cv2.imread(file)\n",
    "        src = cv2.cvtColor(f, cv2.COLOR_BGR2GRAY) # convert to GrayScale\n",
    "        f = cv2.resize(src , (28, 28)) # resize img\n",
    "        r_imgs.append(f)\n",
    "r_imgs = np.array(r_imgs)\n",
    "r_imgs.shape"
   ]
  },
  {
   "cell_type": "code",
   "execution_count": 88,
   "id": "0b9069ae",
   "metadata": {},
   "outputs": [
    {
     "data": {
      "text/plain": [
       "(125, 28, 28)"
      ]
     },
     "execution_count": 88,
     "metadata": {},
     "output_type": "execute_result"
    }
   ],
   "source": [
    "path = 'C:/Users/PythonPrac/Conv_Prac/img_s/' # folder path\n",
    "os.chdir(path) # move to the folder\n",
    "files = os.listdir(path) # 해당 폴더에 있는 파일 이름을 리스트 형태로 받음\n",
    "s_imgs = []\n",
    "for file in files:\n",
    "    if '.jpg' in file or '.jpeg' in file: \n",
    "        f = cv2.imread(file)\n",
    "        src = cv2.cvtColor(f, cv2.COLOR_BGR2GRAY) # convert to GrayScale\n",
    "        f = cv2.resize(src , (28, 28)) # resize img\n",
    "        s_imgs.append(f)\n",
    "s_imgs = np.array(s_imgs)\n",
    "s_imgs.shape"
   ]
  },
  {
   "cell_type": "code",
   "execution_count": 89,
   "id": "9f029a78",
   "metadata": {},
   "outputs": [
    {
     "data": {
      "text/plain": [
       "(126, 28, 28)"
      ]
     },
     "execution_count": 89,
     "metadata": {},
     "output_type": "execute_result"
    }
   ],
   "source": [
    "path = 'C:/Users/PythonPrac/Conv_Prac/img_p/' # folder path\n",
    "os.chdir(path) # move to the folder\n",
    "files = os.listdir(path) # 해당 폴더에 있는 파일 이름을 리스트 형태로 받음\n",
    "p_imgs = []\n",
    "for file in files:\n",
    "    if '.jpg' in file or '.jpeg' in file: \n",
    "        f = cv2.imread(file)\n",
    "        src = cv2.cvtColor(f, cv2.COLOR_BGR2GRAY) # convert to GrayScale\n",
    "        f = cv2.resize(src , (28, 28)) # resize img\n",
    "        p_imgs.append(f)\n",
    "p_imgs = np.array(p_imgs)\n",
    "p_imgs.shape"
   ]
  },
  {
   "cell_type": "code",
   "execution_count": 90,
   "id": "c67106cd",
   "metadata": {},
   "outputs": [],
   "source": [
    "flatten_r = []\n",
    "flatten_s = []\n",
    "flatten_p = []\n",
    "for i in range(len(r_imgs)):\n",
    "    flatten_r.append(r_imgs[i].flatten().tolist())    "
   ]
  },
  {
   "cell_type": "code",
   "execution_count": 91,
   "id": "abd62e2a",
   "metadata": {},
   "outputs": [],
   "source": [
    "for i in range(len(s_imgs)):\n",
    "    flatten_s.append(s_imgs[0].flatten().tolist())"
   ]
  },
  {
   "cell_type": "code",
   "execution_count": 92,
   "id": "36eececa",
   "metadata": {},
   "outputs": [],
   "source": [
    "for i in range(len(p_imgs)):\n",
    "    flatten_p.append(p_imgs[i].flatten().tolist())"
   ]
  },
  {
   "cell_type": "code",
   "execution_count": 104,
   "id": "64b339d5",
   "metadata": {},
   "outputs": [
    {
     "data": {
      "text/plain": [
       "220"
      ]
     },
     "execution_count": 104,
     "metadata": {},
     "output_type": "execute_result"
    }
   ],
   "source": [
    "flatten_r[0][0]"
   ]
  },
  {
   "cell_type": "code",
   "execution_count": 102,
   "id": "a9175c10",
   "metadata": {},
   "outputs": [
    {
     "data": {
      "text/plain": [
       "185"
      ]
     },
     "execution_count": 102,
     "metadata": {},
     "output_type": "execute_result"
    }
   ],
   "source": [
    "flatten_r[0][783]"
   ]
  },
  {
   "cell_type": "code",
   "execution_count": 79,
   "id": "12669b3a",
   "metadata": {},
   "outputs": [],
   "source": [
    "for i in range(43, 785):\n",
    "    cur.execute(f\"Alter TAbLE img1 ADD COLUMN pixel{i} int(3) NOT NULL;\")"
   ]
  },
  {
   "cell_type": "code",
   "execution_count": 111,
   "id": "996ee14f",
   "metadata": {},
   "outputs": [],
   "source": [
    "for i in range(1, 785):\n",
    "    cur.execute(f\"update img1 set pixel{i}={flatten_s[0][i-1]} where MyUnknownColumn=0;\")\n",
    "conn.commit()"
   ]
  },
  {
   "cell_type": "code",
   "execution_count": 109,
   "id": "ef5460cb",
   "metadata": {},
   "outputs": [],
   "source": [
    "for j in range(1, 26):\n",
    "    cur.execute(f\"update img1 set label=1 where MyUnknownColumn={j};\")"
   ]
  },
  {
   "cell_type": "code",
   "execution_count": 112,
   "id": "af7f6d33",
   "metadata": {},
   "outputs": [],
   "source": [
    "for i in range(1, 785):\n",
    "    cur.execute(f\"update img1 set pixel{i}={flatten_s[1][i-1]} where MyUnknownColumn=1;\")\n",
    "conn.commit()    "
   ]
  },
  {
   "cell_type": "code",
   "execution_count": 113,
   "id": "2806cbec",
   "metadata": {},
   "outputs": [],
   "source": [
    "for i in range(1, 785):\n",
    "    cur.execute(f\"update img1 set pixel{i}={flatten_s[2][i-1]} where MyUnknownColumn=2;\")\n",
    "conn.commit()    "
   ]
  },
  {
   "cell_type": "code",
   "execution_count": null,
   "id": "7527d216",
   "metadata": {},
   "outputs": [],
   "source": [
    "# 시저 = 1 "
   ]
  },
  {
   "cell_type": "code",
   "execution_count": null,
   "id": "ff619936",
   "metadata": {},
   "outputs": [],
   "source": []
  },
  {
   "cell_type": "code",
   "execution_count": null,
   "id": "9c1ccb52",
   "metadata": {},
   "outputs": [],
   "source": []
  },
  {
   "cell_type": "code",
   "execution_count": null,
   "id": "7ae22582",
   "metadata": {},
   "outputs": [],
   "source": []
  },
  {
   "cell_type": "code",
   "execution_count": null,
   "id": "ec1ae17b",
   "metadata": {},
   "outputs": [],
   "source": []
  }
 ],
 "metadata": {
  "kernelspec": {
   "display_name": "Python 3 (ipykernel)",
   "language": "python",
   "name": "python3"
  },
  "language_info": {
   "codemirror_mode": {
    "name": "ipython",
    "version": 3
   },
   "file_extension": ".py",
   "mimetype": "text/x-python",
   "name": "python",
   "nbconvert_exporter": "python",
   "pygments_lexer": "ipython3",
   "version": "3.9.13"
  }
 },
 "nbformat": 4,
 "nbformat_minor": 5
}
