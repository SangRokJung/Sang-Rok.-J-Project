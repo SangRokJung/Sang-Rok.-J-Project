{
 "cells": [
  {
   "cell_type": "markdown",
   "id": "c274521d",
   "metadata": {},
   "source": [
    "# 영상 컨볼루션\n",
    "> dst = cv2.filter2D(src, ddepth, kernel, dst, anchor, delta, borderType) <br>\n",
    "src: 입력 영상, Numpy 배열 <br>\n",
    "ddepth: 출력 영상의 dtype (-1: 입력 영상과 동일) <br>\n",
    "kernel: 컨볼루션 커널, float32의 n x n 크기 배열 <br>\n",
    "dst(optional): 결과 영상 <br>\n",
    "anchor(optional): 커널의 기준점, default: 중심점 (-1, -1) <br>\n",
    "delta(optional): 필터가 적용된 결과에 추가할 값 <br>\n",
    "borderType(optional): 외곽 픽셀 보정 방법 지정 <br>"
   ]
  },
  {
   "cell_type": "code",
   "execution_count": 43,
   "id": "63e67c17",
   "metadata": {},
   "outputs": [
    {
     "name": "stdout",
     "output_type": "stream",
     "text": [
      "[[0 1 1]\n",
      " [1 0 0]\n",
      " [0 0 0]]\n",
      "<class 'numpy.ndarray'>\n"
     ]
    },
    {
     "data": {
      "text/plain": [
       "-1"
      ]
     },
     "execution_count": 43,
     "metadata": {},
     "output_type": "execute_result"
    }
   ],
   "source": [
    "import cv2\n",
    "import numpy as np\n",
    "import random\n",
    "import tensorflow as tf\n",
    "\n",
    "# 레나 영상 불러오기\n",
    "src = cv2.imread('./image/lena.jpg')\n",
    "\n",
    "\n",
    "# 3x3 필터 생성\n",
    "filter1 = np.random.randint(0, 2, size=(3,3))\n",
    "print(filter1)\n",
    "\n",
    "dst = cv2.filter2D(src,-1, kernel=filter1)\n",
    "dst2 = cv2.filter2D(dst,-1, kernel=filter1)\n",
    "dst3 = cv2.filter2D(dst2,-1, kernel=filter1)\n",
    "\n",
    "dst4 = tf.nn.conv2d(src, filter1, 2,\"SAME\")\n",
    "# print(type(src))\n",
    "\n",
    "\n",
    "\n",
    "cv2.imshow('dst', dst)\n",
    "cv2.imshow('dst2', dst2)\n",
    "cv2.imshow('dst3', dst3)\n",
    "# cv2.imshow('dst4', dst4)\n",
    "cv2.waitKey()\n",
    "cv2.destroyAllWindows()\n",
    "cv2.waitKey(1)"
   ]
  },
  {
   "cell_type": "code",
   "execution_count": null,
   "id": "09454eb8",
   "metadata": {},
   "outputs": [],
   "source": []
  }
 ],
 "metadata": {
  "kernelspec": {
   "display_name": "Python 3 (ipykernel)",
   "language": "python",
   "name": "python3"
  },
  "language_info": {
   "codemirror_mode": {
    "name": "ipython",
    "version": 3
   },
   "file_extension": ".py",
   "mimetype": "text/x-python",
   "name": "python",
   "nbconvert_exporter": "python",
   "pygments_lexer": "ipython3",
   "version": "3.9.13"
  }
 },
 "nbformat": 4,
 "nbformat_minor": 5
}
